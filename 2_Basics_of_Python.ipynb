{
 "cells": [
  {
   "cell_type": "markdown",
   "id": "39777f8a",
   "metadata": {},
   "source": [
    "#### Escape characters"
   ]
  },
  {
   "cell_type": "markdown",
   "id": "40bf9897",
   "metadata": {},
   "source": [
    "#### \\\n",
    "Removes the functionality of '"
   ]
  },
  {
   "cell_type": "code",
   "execution_count": 1,
   "id": "d649c4e4",
   "metadata": {},
   "outputs": [],
   "source": [
    "# If we want to use apostrophe in our sentence then there basically two methods\n",
    "# 1) Use of double quotes for string\n",
    "# 2) Use of escape character"
   ]
  },
  {
   "cell_type": "code",
   "execution_count": 2,
   "id": "160132b3",
   "metadata": {},
   "outputs": [
    {
     "name": "stdout",
     "output_type": "stream",
     "text": [
      "world's population is increasing day by day\n"
     ]
    }
   ],
   "source": [
    "# 1)\n",
    "str1 = \"world's population is increasing day by day\"\n",
    "print(str1)"
   ]
  },
  {
   "cell_type": "code",
   "execution_count": 2,
   "id": "b43cbb6a",
   "metadata": {},
   "outputs": [
    {
     "name": "stdout",
     "output_type": "stream",
     "text": [
      "India's Taj Mahal\n"
     ]
    }
   ],
   "source": [
    "# 2) Use of escape character\n",
    "str2 = 'India\\'s Taj Mahal'\n",
    "print(str2)"
   ]
  },
  {
   "cell_type": "markdown",
   "id": "76335776",
   "metadata": {},
   "source": [
    "#### \\n\n",
    "Indicates end of line of text (enters into the next line)"
   ]
  },
  {
   "cell_type": "code",
   "execution_count": 10,
   "id": "af125543",
   "metadata": {},
   "outputs": [
    {
     "name": "stdout",
     "output_type": "stream",
     "text": [
      "Hello\n",
      "World\n"
     ]
    }
   ],
   "source": [
    "str3 = 'Hello\\nWorld'\n",
    "print(str3)"
   ]
  },
  {
   "cell_type": "markdown",
   "id": "b106193a",
   "metadata": {},
   "source": [
    "#### \\t\n",
    "To insert tab(space) in between words "
   ]
  },
  {
   "cell_type": "code",
   "execution_count": 1,
   "id": "d7b6cc48",
   "metadata": {},
   "outputs": [
    {
     "name": "stdout",
     "output_type": "stream",
     "text": [
      "Hello\tWorld\n"
     ]
    }
   ],
   "source": [
    "str4 = 'Hello\\tWorld'\n",
    "print(str4)"
   ]
  },
  {
   "cell_type": "code",
   "execution_count": 12,
   "id": "1433a87a",
   "metadata": {},
   "outputs": [
    {
     "name": "stdout",
     "output_type": "stream",
     "text": [
      "Hello\n",
      "\tWorld\n"
     ]
    }
   ],
   "source": [
    "str5 = 'Hello\\n\\tWorld'\n",
    "print(str5)"
   ]
  },
  {
   "cell_type": "code",
   "execution_count": 2,
   "id": "6c2440ce",
   "metadata": {},
   "outputs": [
    {
     "name": "stdout",
     "output_type": "stream",
     "text": [
      "This will insert one \\ (backslash).\n"
     ]
    }
   ],
   "source": [
    "str1 = \"This will insert one \\\\ (backslash).\"\n",
    "print(str1) "
   ]
  },
  {
   "cell_type": "markdown",
   "id": "270b7131",
   "metadata": {},
   "source": [
    "#### Indexing\n",
    "(starts from '0' whereas length starts from '1')\n",
    "\n",
    "syntax: [start index: end index : step size]\n"
   ]
  },
  {
   "cell_type": "code",
   "execution_count": 5,
   "id": "68f64d31",
   "metadata": {},
   "outputs": [
    {
     "name": "stdout",
     "output_type": "stream",
     "text": [
      "data science\n",
      "data science\n",
      "data science\n",
      "data science\n"
     ]
    }
   ],
   "source": [
    "# Positive indexing\n",
    "\n",
    "str1 = 'data science'\n",
    "print(str1[::])\n",
    "print(str1[::1])\n",
    "print(str1[0::1])\n",
    "print(str1[0:len(str1):1])"
   ]
  },
  {
   "cell_type": "code",
   "execution_count": 8,
   "id": "dd2a90dd",
   "metadata": {},
   "outputs": [
    {
     "name": "stdout",
     "output_type": "stream",
     "text": [
      "nohtyp\n",
      "nohtyp\n"
     ]
    }
   ],
   "source": [
    "# Negative indexing\n",
    "\n",
    "str1 = 'python'\n",
    "print(str1[::-1])\n",
    "print(str1[-1:-7:-1])"
   ]
  },
  {
   "cell_type": "markdown",
   "id": "afa7ffef",
   "metadata": {},
   "source": [
    "#### enumarate() function\n",
    "method adds a counter to an iterable and returns it in a form of enumerating object. This enumerated object can then be used directly for loops or converted into a list of tuples using the list() method."
   ]
  },
  {
   "cell_type": "code",
   "execution_count": 1,
   "id": "05e8f577",
   "metadata": {},
   "outputs": [
    {
     "name": "stdout",
     "output_type": "stream",
     "text": [
      "Char at index 0 is s\n",
      "Char at index 1 is c\n",
      "Char at index 2 is i\n",
      "Char at index 3 is e\n",
      "Char at index 4 is n\n",
      "Char at index 5 is c\n",
      "Char at index 6 is e\n"
     ]
    }
   ],
   "source": [
    "str1 = 'science'\n",
    "for i, j in enumerate(str1):\n",
    "    print(f\"Char at index {i} is {j}\")"
   ]
  },
  {
   "cell_type": "code",
   "execution_count": 2,
   "id": "57f08331",
   "metadata": {},
   "outputs": [
    {
     "name": "stdout",
     "output_type": "stream",
     "text": [
      "Char is : s\n",
      "index is : 0\n",
      "Char is : c\n",
      "index is : 1\n",
      "Char is : i\n",
      "index is : 2\n",
      "Char is : e\n",
      "index is : 3\n",
      "Char is : n\n",
      "index is : 4\n",
      "Char is : c\n",
      "index is : 5\n",
      "Char is : e\n",
      "index is : 6\n"
     ]
    }
   ],
   "source": [
    "str1 = 'science'\n",
    "index = 0\n",
    "for char in str1:\n",
    "    print(\"Char is :\", char)\n",
    "    print(\"index is :\",index)\n",
    "    index = index + 1 # 0 + 1 = 1\n",
    "                      # 1 + 1 = 2"
   ]
  }
 ],
 "metadata": {
  "kernelspec": {
   "display_name": "Python 3",
   "language": "python",
   "name": "python3"
  },
  "language_info": {
   "codemirror_mode": {
    "name": "ipython",
    "version": 3
   },
   "file_extension": ".py",
   "mimetype": "text/x-python",
   "name": "python",
   "nbconvert_exporter": "python",
   "pygments_lexer": "ipython3",
   "version": "3.8.8"
  }
 },
 "nbformat": 4,
 "nbformat_minor": 5
}
